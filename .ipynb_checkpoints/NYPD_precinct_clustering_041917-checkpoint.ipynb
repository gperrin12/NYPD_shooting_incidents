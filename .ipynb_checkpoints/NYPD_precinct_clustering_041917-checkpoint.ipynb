{
 "cells": [
  {
   "cell_type": "code",
   "execution_count": 1,
   "metadata": {
    "collapsed": false
   },
   "outputs": [
    {
     "data": {
      "text/plain": [
       "'\\nclustering nypd precincts based on 911 calls reported ratio /\\ndemographics data\\n'"
      ]
     },
     "execution_count": 1,
     "metadata": {},
     "output_type": "execute_result"
    }
   ],
   "source": [
    "'''\n",
    "clustering nypd precincts based on 911 calls reported ratio /\n",
    "demographics data\n",
    "'''"
   ]
  },
  {
   "cell_type": "code",
   "execution_count": 2,
   "metadata": {
    "collapsed": false
   },
   "outputs": [
    {
     "name": "stdout",
     "output_type": "stream",
     "text": [
      "Populating the interactive namespace from numpy and matplotlib\n"
     ]
    },
    {
     "name": "stderr",
     "output_type": "stream",
     "text": [
      "WARNING: pylab import has clobbered these variables: ['compress', 'datetime']\n",
      "`%matplotlib` prevents importing * from pylab and numpy\n"
     ]
    }
   ],
   "source": [
    "import numpy as np\n",
    "import pandas as pd\n",
    "import geopandas as gp\n",
    "import os\n",
    "import subprocess\n",
    "import math\n",
    "import shapely as shp\n",
    "from geopandas import GeoDataFrame\n",
    "from shapely.geometry import Point\n",
    "from datetime import datetime\n",
    "from fiona.crs import from_epsg\n",
    "import matplotlib\n",
    "matplotlib.use('TkAgg')\n",
    "import matplotlib.pyplot as plt\n",
    "import re\n",
    "from pandas.tseries.holiday import get_calendar, HolidayCalendarFactory, GoodFriday\n",
    "from datetime import datetime\n",
    "import sklearn\n",
    "from sklearn.model_selection import train_test_split\n",
    "from sklearn.linear_model import LogisticRegression\n",
    "from sklearn.ensemble import RandomForestClassifier as RFC\n",
    "from sklearn.ensemble import RandomForestRegressor as RFR\n",
    "from sklearn.model_selection import GridSearchCV\n",
    "from sklearn.metrics import roc_auc_score as rs\n",
    "from sklearn import svm, datasets\n",
    "from sklearn import metrics\n",
    "from sklearn.metrics import roc_curve\n",
    "from sklearn.metrics import auc\n",
    "from sklearn.metrics import silhouette_samples, silhouette_score\n",
    "from sklearn.cluster import KMeans\n",
    "\n",
    "from itertools import compress\n",
    "\n",
    "np.random.seed(222)\n",
    "\n",
    "%matplotlib inline\n",
    "%pylab inline\n",
    "pd.options.display.max_columns = 120\n",
    "pd.options.display.max_rows = 120"
   ]
  },
  {
   "cell_type": "code",
   "execution_count": 3,
   "metadata": {
    "collapsed": false,
    "scrolled": false
   },
   "outputs": [
    {
     "data": {
      "text/html": [
       "<div>\n",
       "<table border=\"1\" class=\"dataframe\">\n",
       "  <thead>\n",
       "    <tr style=\"text-align: right;\">\n",
       "      <th></th>\n",
       "      <th>Unnamed: 0</th>\n",
       "      <th>Precinct</th>\n",
       "      <th>Shape_Leng</th>\n",
       "      <th>Shape_Area</th>\n",
       "      <th>field_1</th>\n",
       "      <th>meanfemale</th>\n",
       "      <th>meanelderl</th>\n",
       "      <th>meanwhite_</th>\n",
       "      <th>meanblack_</th>\n",
       "      <th>meanasian_</th>\n",
       "      <th>meanhh</th>\n",
       "      <th>meanhh_chi</th>\n",
       "      <th>meanhh_liv</th>\n",
       "      <th>meanedu_hi</th>\n",
       "      <th>meannon_en</th>\n",
       "      <th>meanunempl</th>\n",
       "      <th>meanvacanc</th>\n",
       "      <th>meanmed_re</th>\n",
       "      <th>meanmed_in</th>\n",
       "      <th>meanmerrie</th>\n",
       "      <th>meanlonger</th>\n",
       "      <th>ratio_com</th>\n",
       "      <th>ratio_res</th>\n",
       "      <th>ratio_off</th>\n",
       "      <th>ratio_ret</th>\n",
       "      <th>ratio_gar</th>\n",
       "      <th>ratio_strg</th>\n",
       "      <th>ratio_fac</th>\n",
       "      <th>meandiv_ar</th>\n",
       "      <th>sumFreq</th>\n",
       "      <th>sumbars</th>\n",
       "      <th>called_911</th>\n",
       "      <th>number_of_911_calls</th>\n",
       "      <th>incident_count</th>\n",
       "      <th>ratio_call</th>\n",
       "      <th>graffiti_c</th>\n",
       "      <th>public_sch</th>\n",
       "      <th>calls_per_inc</th>\n",
       "      <th>public_housing_count</th>\n",
       "      <th>sumpop</th>\n",
       "      <th>calls_per_inc_per_capita</th>\n",
       "      <th>calls_per_incident</th>\n",
       "    </tr>\n",
       "  </thead>\n",
       "  <tbody>\n",
       "    <tr>\n",
       "      <th>0</th>\n",
       "      <td>1</td>\n",
       "      <td>1</td>\n",
       "      <td>79979.38927</td>\n",
       "      <td>4.718213e+07</td>\n",
       "      <td>1</td>\n",
       "      <td>0.49825</td>\n",
       "      <td>0.07057</td>\n",
       "      <td>0.74474</td>\n",
       "      <td>0.03290</td>\n",
       "      <td>0.15403</td>\n",
       "      <td>245.66000</td>\n",
       "      <td>0.43539</td>\n",
       "      <td>0.44691</td>\n",
       "      <td>0.76004</td>\n",
       "      <td>0.04720</td>\n",
       "      <td>0.02906</td>\n",
       "      <td>0.17206</td>\n",
       "      <td>1988.02041</td>\n",
       "      <td>121795.57447</td>\n",
       "      <td>0.42592</td>\n",
       "      <td>0.14559</td>\n",
       "      <td>0.36046</td>\n",
       "      <td>0.29212</td>\n",
       "      <td>0.18941</td>\n",
       "      <td>0.04615</td>\n",
       "      <td>0.00960</td>\n",
       "      <td>0.02441</td>\n",
       "      <td>0.00128</td>\n",
       "      <td>0.61482</td>\n",
       "      <td>210</td>\n",
       "      <td>84</td>\n",
       "      <td>3</td>\n",
       "      <td>90</td>\n",
       "      <td>3</td>\n",
       "      <td>1.00000</td>\n",
       "      <td>358</td>\n",
       "      <td>19</td>\n",
       "      <td>30.00000</td>\n",
       "      <td>50</td>\n",
       "      <td>86629</td>\n",
       "      <td>0.000346</td>\n",
       "      <td>30.000000</td>\n",
       "    </tr>\n",
       "    <tr>\n",
       "      <th>1</th>\n",
       "      <td>2</td>\n",
       "      <td>5</td>\n",
       "      <td>18676.12426</td>\n",
       "      <td>1.808880e+07</td>\n",
       "      <td>2</td>\n",
       "      <td>0.48870</td>\n",
       "      <td>0.11206</td>\n",
       "      <td>0.37708</td>\n",
       "      <td>0.05230</td>\n",
       "      <td>0.47612</td>\n",
       "      <td>144.87719</td>\n",
       "      <td>0.25946</td>\n",
       "      <td>0.42496</td>\n",
       "      <td>0.43872</td>\n",
       "      <td>0.27302</td>\n",
       "      <td>0.04568</td>\n",
       "      <td>0.10332</td>\n",
       "      <td>1131.08772</td>\n",
       "      <td>61132.83673</td>\n",
       "      <td>0.37576</td>\n",
       "      <td>0.21970</td>\n",
       "      <td>0.00000</td>\n",
       "      <td>0.00000</td>\n",
       "      <td>0.00000</td>\n",
       "      <td>0.00000</td>\n",
       "      <td>0.00000</td>\n",
       "      <td>0.00000</td>\n",
       "      <td>0.00000</td>\n",
       "      <td>0.66470</td>\n",
       "      <td>130</td>\n",
       "      <td>40</td>\n",
       "      <td>2</td>\n",
       "      <td>6</td>\n",
       "      <td>4</td>\n",
       "      <td>0.50000</td>\n",
       "      <td>1550</td>\n",
       "      <td>10</td>\n",
       "      <td>1.50000</td>\n",
       "      <td>57</td>\n",
       "      <td>81286</td>\n",
       "      <td>0.000018</td>\n",
       "      <td>1.500000</td>\n",
       "    </tr>\n",
       "    <tr>\n",
       "      <th>2</th>\n",
       "      <td>3</td>\n",
       "      <td>6</td>\n",
       "      <td>27182.61011</td>\n",
       "      <td>2.213193e+07</td>\n",
       "      <td>3</td>\n",
       "      <td>0.49669</td>\n",
       "      <td>0.09824</td>\n",
       "      <td>0.83960</td>\n",
       "      <td>0.02427</td>\n",
       "      <td>0.08845</td>\n",
       "      <td>108.34375</td>\n",
       "      <td>0.38256</td>\n",
       "      <td>0.56843</td>\n",
       "      <td>0.77366</td>\n",
       "      <td>0.02175</td>\n",
       "      <td>0.03493</td>\n",
       "      <td>0.13495</td>\n",
       "      <td>2035.27869</td>\n",
       "      <td>113879.00000</td>\n",
       "      <td>0.32694</td>\n",
       "      <td>0.12712</td>\n",
       "      <td>0.24529</td>\n",
       "      <td>0.51035</td>\n",
       "      <td>0.09272</td>\n",
       "      <td>0.06752</td>\n",
       "      <td>0.02762</td>\n",
       "      <td>0.01078</td>\n",
       "      <td>0.00135</td>\n",
       "      <td>0.55937</td>\n",
       "      <td>385</td>\n",
       "      <td>112</td>\n",
       "      <td>0</td>\n",
       "      <td>0</td>\n",
       "      <td>3</td>\n",
       "      <td>0.00000</td>\n",
       "      <td>247</td>\n",
       "      <td>6</td>\n",
       "      <td>0.00000</td>\n",
       "      <td>64</td>\n",
       "      <td>80342</td>\n",
       "      <td>0.000000</td>\n",
       "      <td>0.000000</td>\n",
       "    </tr>\n",
       "    <tr>\n",
       "      <th>3</th>\n",
       "      <td>4</td>\n",
       "      <td>7</td>\n",
       "      <td>17301.47578</td>\n",
       "      <td>1.836339e+07</td>\n",
       "      <td>4</td>\n",
       "      <td>0.51967</td>\n",
       "      <td>0.14202</td>\n",
       "      <td>0.37639</td>\n",
       "      <td>0.09229</td>\n",
       "      <td>0.34302</td>\n",
       "      <td>178.68750</td>\n",
       "      <td>0.18567</td>\n",
       "      <td>0.44041</td>\n",
       "      <td>0.36402</td>\n",
       "      <td>0.26427</td>\n",
       "      <td>0.04915</td>\n",
       "      <td>0.06115</td>\n",
       "      <td>924.21739</td>\n",
       "      <td>39742.32558</td>\n",
       "      <td>0.38028</td>\n",
       "      <td>0.28104</td>\n",
       "      <td>0.21227</td>\n",
       "      <td>0.57893</td>\n",
       "      <td>0.01635</td>\n",
       "      <td>0.04601</td>\n",
       "      <td>0.02086</td>\n",
       "      <td>0.00748</td>\n",
       "      <td>0.00162</td>\n",
       "      <td>0.46920</td>\n",
       "      <td>197</td>\n",
       "      <td>52</td>\n",
       "      <td>4</td>\n",
       "      <td>42</td>\n",
       "      <td>7</td>\n",
       "      <td>0.57143</td>\n",
       "      <td>834</td>\n",
       "      <td>24</td>\n",
       "      <td>6.00000</td>\n",
       "      <td>48</td>\n",
       "      <td>65552</td>\n",
       "      <td>0.000092</td>\n",
       "      <td>6.000000</td>\n",
       "    </tr>\n",
       "    <tr>\n",
       "      <th>4</th>\n",
       "      <td>5</td>\n",
       "      <td>9</td>\n",
       "      <td>19773.40187</td>\n",
       "      <td>2.139401e+07</td>\n",
       "      <td>5</td>\n",
       "      <td>0.51897</td>\n",
       "      <td>0.07346</td>\n",
       "      <td>0.63156</td>\n",
       "      <td>0.07417</td>\n",
       "      <td>0.15358</td>\n",
       "      <td>135.56716</td>\n",
       "      <td>0.20519</td>\n",
       "      <td>0.50965</td>\n",
       "      <td>0.59596</td>\n",
       "      <td>0.09805</td>\n",
       "      <td>0.04524</td>\n",
       "      <td>0.08975</td>\n",
       "      <td>1519.44615</td>\n",
       "      <td>72633.66129</td>\n",
       "      <td>0.27291</td>\n",
       "      <td>0.24511</td>\n",
       "      <td>0.21355</td>\n",
       "      <td>0.57351</td>\n",
       "      <td>0.04600</td>\n",
       "      <td>0.06289</td>\n",
       "      <td>0.01275</td>\n",
       "      <td>0.00675</td>\n",
       "      <td>0.00034</td>\n",
       "      <td>0.52823</td>\n",
       "      <td>424</td>\n",
       "      <td>143</td>\n",
       "      <td>8</td>\n",
       "      <td>135</td>\n",
       "      <td>14</td>\n",
       "      <td>0.57143</td>\n",
       "      <td>786</td>\n",
       "      <td>18</td>\n",
       "      <td>9.64286</td>\n",
       "      <td>67</td>\n",
       "      <td>105388</td>\n",
       "      <td>0.000091</td>\n",
       "      <td>9.642857</td>\n",
       "    </tr>\n",
       "  </tbody>\n",
       "</table>\n",
       "</div>"
      ],
      "text/plain": [
       "   Unnamed: 0  Precinct   Shape_Leng    Shape_Area  field_1  meanfemale  \\\n",
       "0           1         1  79979.38927  4.718213e+07        1     0.49825   \n",
       "1           2         5  18676.12426  1.808880e+07        2     0.48870   \n",
       "2           3         6  27182.61011  2.213193e+07        3     0.49669   \n",
       "3           4         7  17301.47578  1.836339e+07        4     0.51967   \n",
       "4           5         9  19773.40187  2.139401e+07        5     0.51897   \n",
       "\n",
       "   meanelderl  meanwhite_  meanblack_  meanasian_     meanhh  meanhh_chi  \\\n",
       "0     0.07057     0.74474     0.03290     0.15403  245.66000     0.43539   \n",
       "1     0.11206     0.37708     0.05230     0.47612  144.87719     0.25946   \n",
       "2     0.09824     0.83960     0.02427     0.08845  108.34375     0.38256   \n",
       "3     0.14202     0.37639     0.09229     0.34302  178.68750     0.18567   \n",
       "4     0.07346     0.63156     0.07417     0.15358  135.56716     0.20519   \n",
       "\n",
       "   meanhh_liv  meanedu_hi  meannon_en  meanunempl  meanvacanc  meanmed_re  \\\n",
       "0     0.44691     0.76004     0.04720     0.02906     0.17206  1988.02041   \n",
       "1     0.42496     0.43872     0.27302     0.04568     0.10332  1131.08772   \n",
       "2     0.56843     0.77366     0.02175     0.03493     0.13495  2035.27869   \n",
       "3     0.44041     0.36402     0.26427     0.04915     0.06115   924.21739   \n",
       "4     0.50965     0.59596     0.09805     0.04524     0.08975  1519.44615   \n",
       "\n",
       "     meanmed_in  meanmerrie  meanlonger  ratio_com  ratio_res  ratio_off  \\\n",
       "0  121795.57447     0.42592     0.14559    0.36046    0.29212    0.18941   \n",
       "1   61132.83673     0.37576     0.21970    0.00000    0.00000    0.00000   \n",
       "2  113879.00000     0.32694     0.12712    0.24529    0.51035    0.09272   \n",
       "3   39742.32558     0.38028     0.28104    0.21227    0.57893    0.01635   \n",
       "4   72633.66129     0.27291     0.24511    0.21355    0.57351    0.04600   \n",
       "\n",
       "   ratio_ret  ratio_gar  ratio_strg  ratio_fac  meandiv_ar  sumFreq  sumbars  \\\n",
       "0    0.04615    0.00960     0.02441    0.00128     0.61482      210       84   \n",
       "1    0.00000    0.00000     0.00000    0.00000     0.66470      130       40   \n",
       "2    0.06752    0.02762     0.01078    0.00135     0.55937      385      112   \n",
       "3    0.04601    0.02086     0.00748    0.00162     0.46920      197       52   \n",
       "4    0.06289    0.01275     0.00675    0.00034     0.52823      424      143   \n",
       "\n",
       "   called_911  number_of_911_calls  incident_count  ratio_call  graffiti_c  \\\n",
       "0           3                   90               3     1.00000         358   \n",
       "1           2                    6               4     0.50000        1550   \n",
       "2           0                    0               3     0.00000         247   \n",
       "3           4                   42               7     0.57143         834   \n",
       "4           8                  135              14     0.57143         786   \n",
       "\n",
       "   public_sch  calls_per_inc  public_housing_count  sumpop  \\\n",
       "0          19       30.00000                    50   86629   \n",
       "1          10        1.50000                    57   81286   \n",
       "2           6        0.00000                    64   80342   \n",
       "3          24        6.00000                    48   65552   \n",
       "4          18        9.64286                    67  105388   \n",
       "\n",
       "   calls_per_inc_per_capita  calls_per_incident  \n",
       "0                  0.000346           30.000000  \n",
       "1                  0.000018            1.500000  \n",
       "2                  0.000000            0.000000  \n",
       "3                  0.000092            6.000000  \n",
       "4                  0.000091            9.642857  "
      ]
     },
     "execution_count": 3,
     "metadata": {},
     "output_type": "execute_result"
    }
   ],
   "source": [
    "### read in precinct level demographics data\n",
    "data_folder = '/Users/geoffperrin/Desktop/CUSP/GRA/NYPD/data/'\n",
    "precinct_df = pd.read_csv(data_folder + '170420_pp_pop.csv')\n",
    "precinct_df.rename(columns={'number_of_': 'number_of_911_calls', 'incident_c': 'incident_count'}, inplace=True)\n",
    "precinct_df['calls_per_incident'] = precinct_df.number_of_911_calls / precinct_df.incident_count\n",
    "#replace NAs with zeros\n",
    "precinct_df['calls_per_incident'].fillna(0, inplace=True)\n",
    "precinct_df.head()"
   ]
  },
  {
   "cell_type": "markdown",
   "metadata": {},
   "source": [
    "### build random forest to determine best features(?)"
   ]
  },
  {
   "cell_type": "code",
   "execution_count": 4,
   "metadata": {
    "collapsed": false
   },
   "outputs": [],
   "source": [
    "cols = list(precinct_df.iloc[:,5:30]) + list(precinct_df.iloc[:,35:37])+ ['public_housing_count']"
   ]
  },
  {
   "cell_type": "code",
   "execution_count": 5,
   "metadata": {
    "collapsed": false
   },
   "outputs": [],
   "source": [
    "y = precinct_df.calls_per_incident\n",
    "X = precinct_df[cols]\n",
    "X_train, X_test, y_train, y_test = train_test_split(X, y, test_size = 0.0, random_state = 123)"
   ]
  },
  {
   "cell_type": "code",
   "execution_count": 6,
   "metadata": {
    "collapsed": false
   },
   "outputs": [
    {
     "data": {
      "text/plain": [
       "GridSearchCV(cv=None, error_score='raise',\n",
       "       estimator=RandomForestRegressor(bootstrap=True, criterion='mse', max_depth=None,\n",
       "           max_features='auto', max_leaf_nodes=None,\n",
       "           min_impurity_split=1e-07, min_samples_leaf=1,\n",
       "           min_samples_split=2, min_weight_fraction_leaf=0.0,\n",
       "           n_estimators=10, n_jobs=1, oob_score=False, random_state=None,\n",
       "           verbose=0, warm_start=False),\n",
       "       fit_params={}, iid=True, n_jobs=1,\n",
       "       param_grid={'n_estimators': array([  1, 101, 201, 301, 401, 501]), 'max_depth': [3, 5, 7, 9]},\n",
       "       pre_dispatch='2*n_jobs', refit=True, return_train_score=True,\n",
       "       scoring=None, verbose=0)"
      ]
     },
     "execution_count": 6,
     "metadata": {},
     "output_type": "execute_result"
    }
   ],
   "source": [
    "r_tree = RFR()\n",
    "param_grid = {'max_depth': [3, 5, 7, 9], 'n_estimators': np.arange(1,502,100)}\n",
    "r_tree_tuned = GridSearchCV(r_tree, param_grid)\n",
    "#r_tree_optimum = RFC(r_tree_tuned.best_estimator_)\n",
    "r_tree_tuned.fit(X_train, y_train)"
   ]
  },
  {
   "cell_type": "code",
   "execution_count": 7,
   "metadata": {
    "collapsed": true
   },
   "outputs": [],
   "source": [
    "feature_importance = r_tree_tuned.best_estimator_.fit(X_train, y_train).feature_importances_"
   ]
  },
  {
   "cell_type": "code",
   "execution_count": 24,
   "metadata": {
    "collapsed": false
   },
   "outputs": [
    {
     "data": {
      "text/html": [
       "<div>\n",
       "<table border=\"1\" class=\"dataframe\">\n",
       "  <thead>\n",
       "    <tr style=\"text-align: right;\">\n",
       "      <th></th>\n",
       "      <th>variables</th>\n",
       "      <th>importance</th>\n",
       "    </tr>\n",
       "  </thead>\n",
       "  <tbody>\n",
       "    <tr>\n",
       "      <th>25</th>\n",
       "      <td>graffiti_c</td>\n",
       "      <td>0.15662</td>\n",
       "    </tr>\n",
       "    <tr>\n",
       "      <th>3</th>\n",
       "      <td>meanblack_</td>\n",
       "      <td>0.0993183</td>\n",
       "    </tr>\n",
       "    <tr>\n",
       "      <th>13</th>\n",
       "      <td>meanmed_in</td>\n",
       "      <td>0.0983947</td>\n",
       "    </tr>\n",
       "    <tr>\n",
       "      <th>10</th>\n",
       "      <td>meanunempl</td>\n",
       "      <td>0.0978836</td>\n",
       "    </tr>\n",
       "    <tr>\n",
       "      <th>16</th>\n",
       "      <td>ratio_com</td>\n",
       "      <td>0.0903805</td>\n",
       "    </tr>\n",
       "    <tr>\n",
       "      <th>4</th>\n",
       "      <td>meanasian_</td>\n",
       "      <td>0.0710562</td>\n",
       "    </tr>\n",
       "    <tr>\n",
       "      <th>18</th>\n",
       "      <td>ratio_off</td>\n",
       "      <td>0.0546128</td>\n",
       "    </tr>\n",
       "    <tr>\n",
       "      <th>14</th>\n",
       "      <td>meanmerrie</td>\n",
       "      <td>0.0502644</td>\n",
       "    </tr>\n",
       "    <tr>\n",
       "      <th>15</th>\n",
       "      <td>meanlonger</td>\n",
       "      <td>0.0499056</td>\n",
       "    </tr>\n",
       "    <tr>\n",
       "      <th>1</th>\n",
       "      <td>meanelderl</td>\n",
       "      <td>0.033775</td>\n",
       "    </tr>\n",
       "    <tr>\n",
       "      <th>7</th>\n",
       "      <td>meanhh_liv</td>\n",
       "      <td>0.0334062</td>\n",
       "    </tr>\n",
       "    <tr>\n",
       "      <th>21</th>\n",
       "      <td>ratio_strg</td>\n",
       "      <td>0.0253033</td>\n",
       "    </tr>\n",
       "    <tr>\n",
       "      <th>26</th>\n",
       "      <td>public_sch</td>\n",
       "      <td>0.0178263</td>\n",
       "    </tr>\n",
       "    <tr>\n",
       "      <th>0</th>\n",
       "      <td>meanfemale</td>\n",
       "      <td>0.016063</td>\n",
       "    </tr>\n",
       "    <tr>\n",
       "      <th>8</th>\n",
       "      <td>meanedu_hi</td>\n",
       "      <td>0.0149335</td>\n",
       "    </tr>\n",
       "    <tr>\n",
       "      <th>6</th>\n",
       "      <td>meanhh_chi</td>\n",
       "      <td>0.0133705</td>\n",
       "    </tr>\n",
       "    <tr>\n",
       "      <th>12</th>\n",
       "      <td>meanmed_re</td>\n",
       "      <td>0.0108571</td>\n",
       "    </tr>\n",
       "    <tr>\n",
       "      <th>23</th>\n",
       "      <td>meandiv_ar</td>\n",
       "      <td>0.00932021</td>\n",
       "    </tr>\n",
       "    <tr>\n",
       "      <th>11</th>\n",
       "      <td>meanvacanc</td>\n",
       "      <td>0.00834619</td>\n",
       "    </tr>\n",
       "    <tr>\n",
       "      <th>2</th>\n",
       "      <td>meanwhite_</td>\n",
       "      <td>0.00808649</td>\n",
       "    </tr>\n",
       "    <tr>\n",
       "      <th>9</th>\n",
       "      <td>meannon_en</td>\n",
       "      <td>0.00729757</td>\n",
       "    </tr>\n",
       "    <tr>\n",
       "      <th>20</th>\n",
       "      <td>ratio_gar</td>\n",
       "      <td>0.00616047</td>\n",
       "    </tr>\n",
       "    <tr>\n",
       "      <th>27</th>\n",
       "      <td>public_housing_count</td>\n",
       "      <td>0.00591792</td>\n",
       "    </tr>\n",
       "    <tr>\n",
       "      <th>5</th>\n",
       "      <td>meanhh</td>\n",
       "      <td>0.00591149</td>\n",
       "    </tr>\n",
       "    <tr>\n",
       "      <th>24</th>\n",
       "      <td>sumFreq</td>\n",
       "      <td>0.00550402</td>\n",
       "    </tr>\n",
       "    <tr>\n",
       "      <th>22</th>\n",
       "      <td>ratio_fac</td>\n",
       "      <td>0.00454818</td>\n",
       "    </tr>\n",
       "    <tr>\n",
       "      <th>17</th>\n",
       "      <td>ratio_res</td>\n",
       "      <td>0.00277719</td>\n",
       "    </tr>\n",
       "    <tr>\n",
       "      <th>19</th>\n",
       "      <td>ratio_ret</td>\n",
       "      <td>0.00215951</td>\n",
       "    </tr>\n",
       "  </tbody>\n",
       "</table>\n",
       "</div>"
      ],
      "text/plain": [
       "               variables  importance\n",
       "25            graffiti_c     0.15662\n",
       "3             meanblack_   0.0993183\n",
       "13            meanmed_in   0.0983947\n",
       "10            meanunempl   0.0978836\n",
       "16             ratio_com   0.0903805\n",
       "4             meanasian_   0.0710562\n",
       "18             ratio_off   0.0546128\n",
       "14            meanmerrie   0.0502644\n",
       "15            meanlonger   0.0499056\n",
       "1             meanelderl    0.033775\n",
       "7             meanhh_liv   0.0334062\n",
       "21            ratio_strg   0.0253033\n",
       "26            public_sch   0.0178263\n",
       "0             meanfemale    0.016063\n",
       "8             meanedu_hi   0.0149335\n",
       "6             meanhh_chi   0.0133705\n",
       "12            meanmed_re   0.0108571\n",
       "23            meandiv_ar  0.00932021\n",
       "11            meanvacanc  0.00834619\n",
       "2             meanwhite_  0.00808649\n",
       "9             meannon_en  0.00729757\n",
       "20             ratio_gar  0.00616047\n",
       "27  public_housing_count  0.00591792\n",
       "5                 meanhh  0.00591149\n",
       "24               sumFreq  0.00550402\n",
       "22             ratio_fac  0.00454818\n",
       "17             ratio_res  0.00277719\n",
       "19             ratio_ret  0.00215951"
      ]
     },
     "execution_count": 24,
     "metadata": {},
     "output_type": "execute_result"
    }
   ],
   "source": [
    "Feature_importance_df = pd.DataFrame([list(X_train.columns), list(feature_importance)]).T\n",
    "Feature_importance_df.columns = [\"variables\", \"importance\"]\n",
    "Feature_importance_df = Feature_importance_df.sort_values(by=\"importance\", ascending=False)\n",
    "Feature_importance_df"
   ]
  },
  {
   "cell_type": "code",
   "execution_count": 25,
   "metadata": {
    "collapsed": false
   },
   "outputs": [],
   "source": [
    "important_features = Feature_importance_df['variables'].head(7).tolist()\n",
    "all_vars = ['Precinct'] + important_features"
   ]
  },
  {
   "cell_type": "code",
   "execution_count": 26,
   "metadata": {
    "collapsed": false
   },
   "outputs": [
    {
     "data": {
      "text/plain": [
       "['Precinct',\n",
       " 'graffiti_c',\n",
       " 'meanblack_',\n",
       " 'meanmed_in',\n",
       " 'meanunempl',\n",
       " 'ratio_com',\n",
       " 'meanasian_',\n",
       " 'ratio_off']"
      ]
     },
     "execution_count": 26,
     "metadata": {},
     "output_type": "execute_result"
    }
   ],
   "source": [
    "all_vars"
   ]
  },
  {
   "cell_type": "code",
   "execution_count": 27,
   "metadata": {
    "collapsed": false
   },
   "outputs": [
    {
     "data": {
      "text/html": [
       "<div>\n",
       "<table border=\"1\" class=\"dataframe\">\n",
       "  <thead>\n",
       "    <tr style=\"text-align: right;\">\n",
       "      <th></th>\n",
       "      <th>Precinct</th>\n",
       "      <th>graffiti_c</th>\n",
       "      <th>meanblack_</th>\n",
       "      <th>meanmed_in</th>\n",
       "      <th>meanunempl</th>\n",
       "      <th>ratio_com</th>\n",
       "      <th>meanasian_</th>\n",
       "      <th>ratio_off</th>\n",
       "    </tr>\n",
       "  </thead>\n",
       "  <tbody>\n",
       "    <tr>\n",
       "      <th>0</th>\n",
       "      <td>1</td>\n",
       "      <td>358</td>\n",
       "      <td>0.03290</td>\n",
       "      <td>121795.57447</td>\n",
       "      <td>0.02906</td>\n",
       "      <td>0.36046</td>\n",
       "      <td>0.15403</td>\n",
       "      <td>0.18941</td>\n",
       "    </tr>\n",
       "    <tr>\n",
       "      <th>1</th>\n",
       "      <td>5</td>\n",
       "      <td>1550</td>\n",
       "      <td>0.05230</td>\n",
       "      <td>61132.83673</td>\n",
       "      <td>0.04568</td>\n",
       "      <td>0.00000</td>\n",
       "      <td>0.47612</td>\n",
       "      <td>0.00000</td>\n",
       "    </tr>\n",
       "    <tr>\n",
       "      <th>2</th>\n",
       "      <td>6</td>\n",
       "      <td>247</td>\n",
       "      <td>0.02427</td>\n",
       "      <td>113879.00000</td>\n",
       "      <td>0.03493</td>\n",
       "      <td>0.24529</td>\n",
       "      <td>0.08845</td>\n",
       "      <td>0.09272</td>\n",
       "    </tr>\n",
       "    <tr>\n",
       "      <th>3</th>\n",
       "      <td>7</td>\n",
       "      <td>834</td>\n",
       "      <td>0.09229</td>\n",
       "      <td>39742.32558</td>\n",
       "      <td>0.04915</td>\n",
       "      <td>0.21227</td>\n",
       "      <td>0.34302</td>\n",
       "      <td>0.01635</td>\n",
       "    </tr>\n",
       "    <tr>\n",
       "      <th>4</th>\n",
       "      <td>9</td>\n",
       "      <td>786</td>\n",
       "      <td>0.07417</td>\n",
       "      <td>72633.66129</td>\n",
       "      <td>0.04524</td>\n",
       "      <td>0.21355</td>\n",
       "      <td>0.15358</td>\n",
       "      <td>0.04600</td>\n",
       "    </tr>\n",
       "  </tbody>\n",
       "</table>\n",
       "</div>"
      ],
      "text/plain": [
       "   Precinct  graffiti_c  meanblack_    meanmed_in  meanunempl  ratio_com  \\\n",
       "0         1         358     0.03290  121795.57447     0.02906    0.36046   \n",
       "1         5        1550     0.05230   61132.83673     0.04568    0.00000   \n",
       "2         6         247     0.02427  113879.00000     0.03493    0.24529   \n",
       "3         7         834     0.09229   39742.32558     0.04915    0.21227   \n",
       "4         9         786     0.07417   72633.66129     0.04524    0.21355   \n",
       "\n",
       "   meanasian_  ratio_off  \n",
       "0     0.15403    0.18941  \n",
       "1     0.47612    0.00000  \n",
       "2     0.08845    0.09272  \n",
       "3     0.34302    0.01635  \n",
       "4     0.15358    0.04600  "
      ]
     },
     "execution_count": 27,
     "metadata": {},
     "output_type": "execute_result"
    }
   ],
   "source": [
    "precinct_df_sel_feat = precinct_df[all_vars]\n",
    "precinct_df_sel_feat.head()"
   ]
  },
  {
   "cell_type": "code",
   "execution_count": 28,
   "metadata": {
    "collapsed": false
   },
   "outputs": [
    {
     "name": "stdout",
     "output_type": "stream",
     "text": [
      "graffiti_c\n"
     ]
    },
    {
     "name": "stderr",
     "output_type": "stream",
     "text": [
      "/Users/geoffperrin/anaconda2/lib/python2.7/site-packages/ipykernel/__main__.py:5: SettingWithCopyWarning: \n",
      "A value is trying to be set on a copy of a slice from a DataFrame\n",
      "\n",
      "See the caveats in the documentation: http://pandas.pydata.org/pandas-docs/stable/indexing.html#indexing-view-versus-copy\n"
     ]
    },
    {
     "name": "stdout",
     "output_type": "stream",
     "text": [
      "meanblack_\n",
      "meanmed_in\n",
      "meanunempl\n",
      "ratio_com\n",
      "meanasian_\n",
      "ratio_off\n"
     ]
    }
   ],
   "source": [
    "#need to standardize each column so that each value is a z score\n",
    "for i in important_features:\n",
    "    print i\n",
    "    for j in range(len(precinct_df_sel_feat)):\n",
    "        precinct_df_sel_feat[i][j] = (precinct_df_sel_feat[i][j] - precinct_df_sel_feat[i].mean())\\\n",
    "        / precinct_df_sel_feat[i].std()"
   ]
  },
  {
   "cell_type": "code",
   "execution_count": 29,
   "metadata": {
    "collapsed": false
   },
   "outputs": [
    {
     "data": {
      "text/html": [
       "<div>\n",
       "<table border=\"1\" class=\"dataframe\">\n",
       "  <thead>\n",
       "    <tr style=\"text-align: right;\">\n",
       "      <th></th>\n",
       "      <th>Precinct</th>\n",
       "      <th>graffiti_c</th>\n",
       "      <th>meanblack_</th>\n",
       "      <th>meanmed_in</th>\n",
       "      <th>meanunempl</th>\n",
       "      <th>ratio_com</th>\n",
       "      <th>meanasian_</th>\n",
       "      <th>ratio_off</th>\n",
       "    </tr>\n",
       "  </thead>\n",
       "  <tbody>\n",
       "    <tr>\n",
       "      <th>0</th>\n",
       "      <td>1</td>\n",
       "      <td>0</td>\n",
       "      <td>-0.891883</td>\n",
       "      <td>2.239114</td>\n",
       "      <td>-1.559030</td>\n",
       "      <td>2.669327</td>\n",
       "      <td>0.308526</td>\n",
       "      <td>4.223318</td>\n",
       "    </tr>\n",
       "    <tr>\n",
       "      <th>1</th>\n",
       "      <td>5</td>\n",
       "      <td>2</td>\n",
       "      <td>-0.671975</td>\n",
       "      <td>0.051809</td>\n",
       "      <td>0.031020</td>\n",
       "      <td>-0.450263</td>\n",
       "      <td>3.100102</td>\n",
       "      <td>-0.162579</td>\n",
       "    </tr>\n",
       "    <tr>\n",
       "      <th>2</th>\n",
       "      <td>6</td>\n",
       "      <td>0</td>\n",
       "      <td>-0.693744</td>\n",
       "      <td>1.973891</td>\n",
       "      <td>-0.025850</td>\n",
       "      <td>0.362645</td>\n",
       "      <td>-0.187910</td>\n",
       "      <td>0.035012</td>\n",
       "    </tr>\n",
       "    <tr>\n",
       "      <th>3</th>\n",
       "      <td>7</td>\n",
       "      <td>0</td>\n",
       "      <td>-0.403004</td>\n",
       "      <td>-0.635098</td>\n",
       "      <td>0.054939</td>\n",
       "      <td>0.251515</td>\n",
       "      <td>0.533365</td>\n",
       "      <td>-0.122356</td>\n",
       "    </tr>\n",
       "    <tr>\n",
       "      <th>4</th>\n",
       "      <td>9</td>\n",
       "      <td>0</td>\n",
       "      <td>-0.430199</td>\n",
       "      <td>0.548697</td>\n",
       "      <td>0.033493</td>\n",
       "      <td>0.253840</td>\n",
       "      <td>-0.002004</td>\n",
       "      <td>-0.056848</td>\n",
       "    </tr>\n",
       "  </tbody>\n",
       "</table>\n",
       "</div>"
      ],
      "text/plain": [
       "   Precinct  graffiti_c  meanblack_  meanmed_in  meanunempl  ratio_com  \\\n",
       "0         1           0   -0.891883    2.239114   -1.559030   2.669327   \n",
       "1         5           2   -0.671975    0.051809    0.031020  -0.450263   \n",
       "2         6           0   -0.693744    1.973891   -0.025850   0.362645   \n",
       "3         7           0   -0.403004   -0.635098    0.054939   0.251515   \n",
       "4         9           0   -0.430199    0.548697    0.033493   0.253840   \n",
       "\n",
       "   meanasian_  ratio_off  \n",
       "0    0.308526   4.223318  \n",
       "1    3.100102  -0.162579  \n",
       "2   -0.187910   0.035012  \n",
       "3    0.533365  -0.122356  \n",
       "4   -0.002004  -0.056848  "
      ]
     },
     "execution_count": 29,
     "metadata": {},
     "output_type": "execute_result"
    }
   ],
   "source": [
    "precinct_df_sel_feat.head()"
   ]
  },
  {
   "cell_type": "code",
   "execution_count": 30,
   "metadata": {
    "collapsed": false
   },
   "outputs": [
    {
     "name": "stdout",
     "output_type": "stream",
     "text": [
      "For n_clusters =2, the average silhouette_score is :0.660982058987\n",
      "For n_clusters =3, the average silhouette_score is :0.545842528093\n",
      "For n_clusters =4, the average silhouette_score is :0.547340744299\n",
      "For n_clusters =5, the average silhouette_score is :0.545824311745\n",
      "For n_clusters =6, the average silhouette_score is :0.536702572509\n",
      "For n_clusters =7, the average silhouette_score is :0.548361961284\n",
      "For n_clusters =8, the average silhouette_score is :0.594461552807\n"
     ]
    }
   ],
   "source": [
    "X = precinct_df[important_features]\n",
    "range_n_clusters = [2, 3, 4, 5, 6, 7, 8]\n",
    "for n_clusters in range_n_clusters:\n",
    "    km = KMeans(n_clusters=n_clusters, random_state=324)\n",
    "    cluster_labels = km.fit_predict(X)\n",
    "    silhouette_avg = silhouette_score(X, cluster_labels)\n",
    "    print(\"For n_clusters ={},\".format(n_clusters)+\" the average silhouette_score is :{}\".format(silhouette_avg))"
   ]
  },
  {
   "cell_type": "code",
   "execution_count": 38,
   "metadata": {
    "collapsed": false
   },
   "outputs": [
    {
     "name": "stdout",
     "output_type": "stream",
     "text": [
      "[2 1 2 3 0 2 2 0 2 2 2 2 2 1 2 3 1 1 3 3 3 1 3 3 3 3 3 1 3 1 3 1 1 3 3 1 1\n",
      " 0 1 1 1 1 1 1 1 3 3 2 1 2 1 1 1 0 0 1 0 1 3 1 1 1 0 1 0 1 1 1 0 0 0 1 1 0\n",
      " 0 0 0]\n"
     ]
    }
   ],
   "source": [
    "n = 4\n",
    "# number of clusters\n",
    "dd = precinct_df[important_features] #data\n",
    "#train the model.\n",
    "km=KMeans(random_state=324,n_clusters=n)\n",
    "res=km.fit(dd)\n",
    "#result.\n",
    "print(res.labels_)\n",
    "# print res.predict(dd)"
   ]
  },
  {
   "cell_type": "code",
   "execution_count": 39,
   "metadata": {
    "collapsed": false
   },
   "outputs": [
    {
     "name": "stderr",
     "output_type": "stream",
     "text": [
      "/Users/geoffperrin/anaconda2/lib/python2.7/site-packages/ipykernel/__main__.py:1: SettingWithCopyWarning: \n",
      "A value is trying to be set on a copy of a slice from a DataFrame.\n",
      "Try using .loc[row_indexer,col_indexer] = value instead\n",
      "\n",
      "See the caveats in the documentation: http://pandas.pydata.org/pandas-docs/stable/indexing.html#indexing-view-versus-copy\n",
      "  if __name__ == '__main__':\n"
     ]
    }
   ],
   "source": [
    "precinct_df_sel_feat['cluster_label'] = res.predict(dd)"
   ]
  },
  {
   "cell_type": "code",
   "execution_count": 40,
   "metadata": {
    "collapsed": false
   },
   "outputs": [
    {
     "data": {
      "text/html": [
       "<div>\n",
       "<table border=\"1\" class=\"dataframe\">\n",
       "  <thead>\n",
       "    <tr style=\"text-align: right;\">\n",
       "      <th></th>\n",
       "      <th>Precinct</th>\n",
       "      <th>graffiti_c</th>\n",
       "      <th>meanblack_</th>\n",
       "      <th>meanmed_in</th>\n",
       "      <th>meanunempl</th>\n",
       "      <th>ratio_com</th>\n",
       "      <th>meanasian_</th>\n",
       "      <th>ratio_off</th>\n",
       "      <th>cluster_label</th>\n",
       "    </tr>\n",
       "  </thead>\n",
       "  <tbody>\n",
       "    <tr>\n",
       "      <th>0</th>\n",
       "      <td>1</td>\n",
       "      <td>0</td>\n",
       "      <td>-0.891883</td>\n",
       "      <td>2.239114</td>\n",
       "      <td>-1.559030</td>\n",
       "      <td>2.669327</td>\n",
       "      <td>0.308526</td>\n",
       "      <td>4.223318</td>\n",
       "      <td>2</td>\n",
       "    </tr>\n",
       "    <tr>\n",
       "      <th>1</th>\n",
       "      <td>5</td>\n",
       "      <td>2</td>\n",
       "      <td>-0.671975</td>\n",
       "      <td>0.051809</td>\n",
       "      <td>0.031020</td>\n",
       "      <td>-0.450263</td>\n",
       "      <td>3.100102</td>\n",
       "      <td>-0.162579</td>\n",
       "      <td>1</td>\n",
       "    </tr>\n",
       "    <tr>\n",
       "      <th>2</th>\n",
       "      <td>6</td>\n",
       "      <td>0</td>\n",
       "      <td>-0.693744</td>\n",
       "      <td>1.973891</td>\n",
       "      <td>-0.025850</td>\n",
       "      <td>0.362645</td>\n",
       "      <td>-0.187910</td>\n",
       "      <td>0.035012</td>\n",
       "      <td>2</td>\n",
       "    </tr>\n",
       "    <tr>\n",
       "      <th>3</th>\n",
       "      <td>7</td>\n",
       "      <td>0</td>\n",
       "      <td>-0.403004</td>\n",
       "      <td>-0.635098</td>\n",
       "      <td>0.054939</td>\n",
       "      <td>0.251515</td>\n",
       "      <td>0.533365</td>\n",
       "      <td>-0.122356</td>\n",
       "      <td>3</td>\n",
       "    </tr>\n",
       "    <tr>\n",
       "      <th>4</th>\n",
       "      <td>9</td>\n",
       "      <td>0</td>\n",
       "      <td>-0.430199</td>\n",
       "      <td>0.548697</td>\n",
       "      <td>0.033493</td>\n",
       "      <td>0.253840</td>\n",
       "      <td>-0.002004</td>\n",
       "      <td>-0.056848</td>\n",
       "      <td>0</td>\n",
       "    </tr>\n",
       "  </tbody>\n",
       "</table>\n",
       "</div>"
      ],
      "text/plain": [
       "   Precinct  graffiti_c  meanblack_  meanmed_in  meanunempl  ratio_com  \\\n",
       "0         1           0   -0.891883    2.239114   -1.559030   2.669327   \n",
       "1         5           2   -0.671975    0.051809    0.031020  -0.450263   \n",
       "2         6           0   -0.693744    1.973891   -0.025850   0.362645   \n",
       "3         7           0   -0.403004   -0.635098    0.054939   0.251515   \n",
       "4         9           0   -0.430199    0.548697    0.033493   0.253840   \n",
       "\n",
       "   meanasian_  ratio_off  cluster_label  \n",
       "0    0.308526   4.223318              2  \n",
       "1    3.100102  -0.162579              1  \n",
       "2   -0.187910   0.035012              2  \n",
       "3    0.533365  -0.122356              3  \n",
       "4   -0.002004  -0.056848              0  "
      ]
     },
     "execution_count": 40,
     "metadata": {},
     "output_type": "execute_result"
    }
   ],
   "source": [
    "precinct_df_sel_feat.head()"
   ]
  },
  {
   "cell_type": "code",
   "execution_count": 41,
   "metadata": {
    "collapsed": false
   },
   "outputs": [
    {
     "data": {
      "text/html": [
       "<div>\n",
       "<table border=\"1\" class=\"dataframe\">\n",
       "  <thead>\n",
       "    <tr style=\"text-align: right;\">\n",
       "      <th></th>\n",
       "      <th>Precinct</th>\n",
       "      <th>Shape_Area</th>\n",
       "      <th>Shape_Leng</th>\n",
       "      <th>geometry</th>\n",
       "    </tr>\n",
       "  </thead>\n",
       "  <tbody>\n",
       "    <tr>\n",
       "      <th>0</th>\n",
       "      <td>1</td>\n",
       "      <td>4.718213e+07</td>\n",
       "      <td>79979.389271</td>\n",
       "      <td>(POLYGON ((-74.04387761573953 40.6901876764099...</td>\n",
       "    </tr>\n",
       "    <tr>\n",
       "      <th>1</th>\n",
       "      <td>5</td>\n",
       "      <td>1.808880e+07</td>\n",
       "      <td>18676.124259</td>\n",
       "      <td>POLYGON ((-73.98863862848766 40.72293372029702...</td>\n",
       "    </tr>\n",
       "    <tr>\n",
       "      <th>2</th>\n",
       "      <td>6</td>\n",
       "      <td>2.213193e+07</td>\n",
       "      <td>27182.610113</td>\n",
       "      <td>POLYGON ((-73.99968392160721 40.73855224869309...</td>\n",
       "    </tr>\n",
       "    <tr>\n",
       "      <th>3</th>\n",
       "      <td>7</td>\n",
       "      <td>1.836339e+07</td>\n",
       "      <td>17301.475777</td>\n",
       "      <td>POLYGON ((-73.9734532411957 40.71896288711555,...</td>\n",
       "    </tr>\n",
       "    <tr>\n",
       "      <th>4</th>\n",
       "      <td>9</td>\n",
       "      <td>2.139401e+07</td>\n",
       "      <td>19773.401872</td>\n",
       "      <td>POLYGON ((-73.97160900246389 40.72672340120322...</td>\n",
       "    </tr>\n",
       "  </tbody>\n",
       "</table>\n",
       "</div>"
      ],
      "text/plain": [
       "   Precinct    Shape_Area    Shape_Leng  \\\n",
       "0         1  4.718213e+07  79979.389271   \n",
       "1         5  1.808880e+07  18676.124259   \n",
       "2         6  2.213193e+07  27182.610113   \n",
       "3         7  1.836339e+07  17301.475777   \n",
       "4         9  2.139401e+07  19773.401872   \n",
       "\n",
       "                                            geometry  \n",
       "0  (POLYGON ((-74.04387761573953 40.6901876764099...  \n",
       "1  POLYGON ((-73.98863862848766 40.72293372029702...  \n",
       "2  POLYGON ((-73.99968392160721 40.73855224869309...  \n",
       "3  POLYGON ((-73.9734532411957 40.71896288711555,...  \n",
       "4  POLYGON ((-73.97160900246389 40.72672340120322...  "
      ]
     },
     "execution_count": 41,
     "metadata": {},
     "output_type": "execute_result"
    }
   ],
   "source": [
    "### read in precinct shapefile\n",
    "### read in census block GROUP shapefile\n",
    "ny_precinct_raw = gp.read_file(data_folder + 'nypp_17a/nypp.shp')\n",
    "ny_precinct_raw = ny_precinct_raw.to_crs(epsg=4326)\n",
    "ny_precinct_raw.head()"
   ]
  },
  {
   "cell_type": "code",
   "execution_count": 42,
   "metadata": {
    "collapsed": true
   },
   "outputs": [],
   "source": [
    "ny_precinct_cluster = ny_precinct_raw.merge(precinct_df_sel_feat)"
   ]
  },
  {
   "cell_type": "code",
   "execution_count": 46,
   "metadata": {
    "collapsed": true
   },
   "outputs": [],
   "source": [
    "crs1 = {'datum': 'NAD83', 'ellps': 'GRS80', 'proj': 'utm', 'units': 'm', 'zone': 18, 'no_defs': True}"
   ]
  },
  {
   "cell_type": "code",
   "execution_count": 47,
   "metadata": {
    "collapsed": false
   },
   "outputs": [],
   "source": [
    "ny_precinct_cluster = ny_precinct_cluster.to_crs(crs1)"
   ]
  },
  {
   "cell_type": "code",
   "execution_count": 54,
   "metadata": {
    "collapsed": false
   },
   "outputs": [
    {
     "data": {
      "text/plain": [
       "<matplotlib.text.Text at 0x1300af6d0>"
      ]
     },
     "execution_count": 54,
     "metadata": {},
     "output_type": "execute_result"
    },
    {
     "data": {
      "image/png": "[encoded data removed]",
      "text/plain": [
       "<matplotlib.figure.Figure at 0x13010aad0>"
      ]
     },
     "metadata": {},
     "output_type": "display_data"
    }
   ],
   "source": [
    "plt.rcParams[\"figure.figsize\"] = (10,10)\n",
    "ny_precinct_cluster.plot(column='cluster_label', cmap='Accent')\n",
    "plt.title(\"Plot of NYPD Precincts, Clustered by Important Features\")\n",
    "plt.xlabel(\"longitude\")\n",
    "plt.ylabel(\"latitude\")"
   ]
  },
  {
   "cell_type": "code",
   "execution_count": null,
   "metadata": {
    "collapsed": true
   },
   "outputs": [],
   "source": []
  }
 ],
 "metadata": {
  "kernelspec": {
   "display_name": "Python [Root]",
   "language": "python",
   "name": "Python [Root]"
  },
  "language_info": {
   "codemirror_mode": {
    "name": "ipython",
    "version": 2
   },
   "file_extension": ".py",
   "mimetype": "text/x-python",
   "name": "python",
   "nbconvert_exporter": "python",
   "pygments_lexer": "ipython2",
   "version": "2.7.12"
  }
 },
 "nbformat": 4,
 "nbformat_minor": 2
}
