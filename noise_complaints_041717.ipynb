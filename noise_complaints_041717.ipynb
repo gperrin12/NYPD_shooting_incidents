{
 "cells": [
  {
   "cell_type": "code",
   "execution_count": 1,
   "metadata": {
    "collapsed": false
   },
   "outputs": [
    {
     "data": {
      "text/plain": [
       "'\\nnoise complaint data taken from openNYC data portal\\nhttps://data.cityofnewyork.us/Social-Services/NYC-311-NYPD-Noise-2015-01-14/a75n-km7r\\n\\ncan only get 2015-2017 data for some reason\\n'"
      ]
     },
     "execution_count": 1,
     "metadata": {},
     "output_type": "execute_result"
    }
   ],
   "source": [
    "'''\n",
    "noise complaint data taken from openNYC data portal\n",
    "https://data.cityofnewyork.us/Social-Services/NYC-311-NYPD-Noise-2015-01-14/a75n-km7r\n",
    "\n",
    "can only get 2015-2017 data for some reason\n",
    "'''"
   ]
  },
  {
   "cell_type": "code",
   "execution_count": 2,
   "metadata": {
    "collapsed": false
   },
   "outputs": [
    {
     "name": "stdout",
     "output_type": "stream",
     "text": [
      "Populating the interactive namespace from numpy and matplotlib\n"
     ]
    },
    {
     "name": "stderr",
     "output_type": "stream",
     "text": [
      "WARNING: pylab import has clobbered these variables: ['compress', 'datetime']\n",
      "`%matplotlib` prevents importing * from pylab and numpy\n"
     ]
    }
   ],
   "source": [
    "import numpy as np\n",
    "import pandas as pd\n",
    "import geopandas as gp\n",
    "import os\n",
    "import subprocess\n",
    "import math\n",
    "import shapely as shp\n",
    "from geopandas import GeoDataFrame\n",
    "from shapely.geometry import Point\n",
    "from datetime import datetime\n",
    "from fiona.crs import from_epsg\n",
    "import matplotlib\n",
    "matplotlib.use('TkAgg')\n",
    "import matplotlib.pyplot as plt\n",
    "import re\n",
    "from pandas.tseries.holiday import get_calendar, HolidayCalendarFactory, GoodFriday\n",
    "from datetime import datetime\n",
    "import sklearn\n",
    "from sklearn.model_selection import train_test_split\n",
    "from sklearn.linear_model import LogisticRegression\n",
    "from sklearn.ensemble import RandomForestClassifier as RFC\n",
    "from sklearn.model_selection import GridSearchCV\n",
    "from sklearn.metrics import roc_auc_score as rs\n",
    "from sklearn import svm, datasets\n",
    "from sklearn import metrics\n",
    "from sklearn.metrics import roc_curve\n",
    "from sklearn.metrics import auc\n",
    "\n",
    "from itertools import compress\n",
    "\n",
    "np.random.seed(222)\n",
    "\n",
    "%matplotlib inline\n",
    "%pylab inline"
   ]
  },
  {
   "cell_type": "code",
   "execution_count": 3,
   "metadata": {
    "collapsed": true
   },
   "outputs": [],
   "source": [
    "data_folder = '/Users/geoffperrin/Desktop/CUSP/GRA/NYPD/data/'"
   ]
  },
  {
   "cell_type": "code",
   "execution_count": 21,
   "metadata": {
    "collapsed": false,
    "scrolled": false
   },
   "outputs": [
    {
     "name": "stderr",
     "output_type": "stream",
     "text": [
      "/Users/geoffperrin/anaconda2/lib/python2.7/site-packages/IPython/core/interactiveshell.py:2723: DtypeWarning: Columns (7,17,18,20,38) have mixed types. Specify dtype option on import or set low_memory=False.\n",
      "  interactivity=interactivity, compiler=compiler, result=result)\n"
     ]
    }
   ],
   "source": [
    "noise_df_raw = pd.read_csv(data_folder + '311_noise_2013_2015.csv')"
   ]
  },
  {
   "cell_type": "code",
   "execution_count": 23,
   "metadata": {
    "collapsed": true
   },
   "outputs": [],
   "source": [
    "noise_df = noise_df_raw[['Created Date', 'Descriptor', 'Latitude', 'Longitude']]"
   ]
  },
  {
   "cell_type": "code",
   "execution_count": 24,
   "metadata": {
    "collapsed": false
   },
   "outputs": [],
   "source": [
    "noise_df = noise_df.dropna()"
   ]
  },
  {
   "cell_type": "code",
   "execution_count": 25,
   "metadata": {
    "collapsed": false
   },
   "outputs": [],
   "source": [
    "noise_df['lonlat'] = zip(noise_df.Longitude, noise_df.Latitude)\n",
    "noise_df['geometry'] = noise_df[['lonlat']].applymap(lambda x:shp.geometry.Point(x))\n",
    "noise_df = noise_df.drop(['Longitude', 'Latitude'], axis=1)\n",
    "crs = {'init': 'epsg:4326'}\n",
    "noise_df_geo = GeoDataFrame(noise_df, crs=crs, geometry = 'geometry')\n",
    "noise_df_geo = noise_df_geo.to_crs(epsg=4326)"
   ]
  },
  {
   "cell_type": "code",
   "execution_count": 26,
   "metadata": {
    "collapsed": false
   },
   "outputs": [
    {
     "data": {
      "text/html": [
       "<div>\n",
       "<table border=\"1\" class=\"dataframe\">\n",
       "  <thead>\n",
       "    <tr style=\"text-align: right;\">\n",
       "      <th></th>\n",
       "      <th>Created Date</th>\n",
       "      <th>Descriptor</th>\n",
       "      <th>geometry</th>\n",
       "    </tr>\n",
       "  </thead>\n",
       "  <tbody>\n",
       "    <tr>\n",
       "      <th>0</th>\n",
       "      <td>05/01/2013 06:17:00 PM</td>\n",
       "      <td>Noise, Barking Dog (NR5)</td>\n",
       "      <td>POINT (-73.8589886717692 40.89389930459917)</td>\n",
       "    </tr>\n",
       "    <tr>\n",
       "      <th>1</th>\n",
       "      <td>07/04/2015 01:02:00 PM</td>\n",
       "      <td>Noise: air condition/ventilation equipment (NV1)</td>\n",
       "      <td>POINT (-73.95763793947506 40.71241137254676)</td>\n",
       "    </tr>\n",
       "    <tr>\n",
       "      <th>2</th>\n",
       "      <td>07/29/2015 02:00:00 AM</td>\n",
       "      <td>Noise: air condition/ventilation equipment (NV1)</td>\n",
       "      <td>POINT (-73.90252924410468 40.7438245925335)</td>\n",
       "    </tr>\n",
       "    <tr>\n",
       "      <th>3</th>\n",
       "      <td>11/12/2015 08:59:00 AM</td>\n",
       "      <td>Noise: air condition/ventilation equipment (NV1)</td>\n",
       "      <td>POINT (-73.90993751295274 40.81905560719026)</td>\n",
       "    </tr>\n",
       "    <tr>\n",
       "      <th>4</th>\n",
       "      <td>10/12/2015 01:07:00 AM</td>\n",
       "      <td>Noise: air condition/ventilation equipment (NV1)</td>\n",
       "      <td>POINT (-73.94300888631271 40.61791057506885)</td>\n",
       "    </tr>\n",
       "  </tbody>\n",
       "</table>\n",
       "</div>"
      ],
      "text/plain": [
       "             Created Date                                        Descriptor  \\\n",
       "0  05/01/2013 06:17:00 PM                          Noise, Barking Dog (NR5)   \n",
       "1  07/04/2015 01:02:00 PM  Noise: air condition/ventilation equipment (NV1)   \n",
       "2  07/29/2015 02:00:00 AM  Noise: air condition/ventilation equipment (NV1)   \n",
       "3  11/12/2015 08:59:00 AM  Noise: air condition/ventilation equipment (NV1)   \n",
       "4  10/12/2015 01:07:00 AM  Noise: air condition/ventilation equipment (NV1)   \n",
       "\n",
       "                                       geometry  \n",
       "0   POINT (-73.8589886717692 40.89389930459917)  \n",
       "1  POINT (-73.95763793947506 40.71241137254676)  \n",
       "2   POINT (-73.90252924410468 40.7438245925335)  \n",
       "3  POINT (-73.90993751295274 40.81905560719026)  \n",
       "4  POINT (-73.94300888631271 40.61791057506885)  "
      ]
     },
     "execution_count": 26,
     "metadata": {},
     "output_type": "execute_result"
    }
   ],
   "source": [
    "noise_df_geo = noise_df_geo[['Created Date', 'Descriptor', 'geometry']]\n",
    "noise_df_geo.head()"
   ]
  },
  {
   "cell_type": "code",
   "execution_count": 9,
   "metadata": {
    "collapsed": false
   },
   "outputs": [
    {
     "data": {
      "text/html": [
       "<div>\n",
       "<table border=\"1\" class=\"dataframe\">\n",
       "  <thead>\n",
       "    <tr style=\"text-align: right;\">\n",
       "      <th></th>\n",
       "      <th>AFFGEOID</th>\n",
       "      <th>ALAND</th>\n",
       "      <th>AWATER</th>\n",
       "      <th>BLKGRPCE</th>\n",
       "      <th>COUNTYFP</th>\n",
       "      <th>GEOID</th>\n",
       "      <th>LSAD</th>\n",
       "      <th>NAME</th>\n",
       "      <th>STATEFP</th>\n",
       "      <th>TRACTCE</th>\n",
       "      <th>geometry</th>\n",
       "    </tr>\n",
       "  </thead>\n",
       "  <tbody>\n",
       "    <tr>\n",
       "      <th>0</th>\n",
       "      <td>1500000US360850156031</td>\n",
       "      <td>332908</td>\n",
       "      <td>0</td>\n",
       "      <td>1</td>\n",
       "      <td>085</td>\n",
       "      <td>360850156031</td>\n",
       "      <td>BG</td>\n",
       "      <td>1</td>\n",
       "      <td>36</td>\n",
       "      <td>015603</td>\n",
       "      <td>POLYGON ((-74.16134900000002 40.529374, -74.15...</td>\n",
       "    </tr>\n",
       "    <tr>\n",
       "      <th>1</th>\n",
       "      <td>1500000US361039901000</td>\n",
       "      <td>0</td>\n",
       "      <td>2712461516</td>\n",
       "      <td>0</td>\n",
       "      <td>103</td>\n",
       "      <td>361039901000</td>\n",
       "      <td>BG</td>\n",
       "      <td>0</td>\n",
       "      <td>36</td>\n",
       "      <td>990100</td>\n",
       "      <td>POLYGON ((-72.18759507814521 41.0338154646346,...</td>\n",
       "    </tr>\n",
       "    <tr>\n",
       "      <th>2</th>\n",
       "      <td>1500000US360050004001</td>\n",
       "      <td>62874</td>\n",
       "      <td>0</td>\n",
       "      <td>1</td>\n",
       "      <td>005</td>\n",
       "      <td>360050004001</td>\n",
       "      <td>BG</td>\n",
       "      <td>1</td>\n",
       "      <td>36</td>\n",
       "      <td>000400</td>\n",
       "      <td>POLYGON ((-73.85870299999999 40.815405, -73.85...</td>\n",
       "    </tr>\n",
       "    <tr>\n",
       "      <th>3</th>\n",
       "      <td>1500000US360594097001</td>\n",
       "      <td>374608</td>\n",
       "      <td>0</td>\n",
       "      <td>1</td>\n",
       "      <td>059</td>\n",
       "      <td>360594097001</td>\n",
       "      <td>BG</td>\n",
       "      <td>1</td>\n",
       "      <td>36</td>\n",
       "      <td>409700</td>\n",
       "      <td>POLYGON ((-73.52014 40.698804, -73.51471599999...</td>\n",
       "    </tr>\n",
       "    <tr>\n",
       "      <th>4</th>\n",
       "      <td>1500000US360593041002</td>\n",
       "      <td>875235</td>\n",
       "      <td>0</td>\n",
       "      <td>2</td>\n",
       "      <td>059</td>\n",
       "      <td>360593041002</td>\n",
       "      <td>BG</td>\n",
       "      <td>2</td>\n",
       "      <td>36</td>\n",
       "      <td>304100</td>\n",
       "      <td>POLYGON ((-73.587903 40.760198, -73.5872079999...</td>\n",
       "    </tr>\n",
       "  </tbody>\n",
       "</table>\n",
       "</div>"
      ],
      "text/plain": [
       "                AFFGEOID   ALAND      AWATER BLKGRPCE COUNTYFP         GEOID  \\\n",
       "0  1500000US360850156031  332908           0        1      085  360850156031   \n",
       "1  1500000US361039901000       0  2712461516        0      103  361039901000   \n",
       "2  1500000US360050004001   62874           0        1      005  360050004001   \n",
       "3  1500000US360594097001  374608           0        1      059  360594097001   \n",
       "4  1500000US360593041002  875235           0        2      059  360593041002   \n",
       "\n",
       "  LSAD NAME STATEFP TRACTCE                                           geometry  \n",
       "0   BG    1      36  015603  POLYGON ((-74.16134900000002 40.529374, -74.15...  \n",
       "1   BG    0      36  990100  POLYGON ((-72.18759507814521 41.0338154646346,...  \n",
       "2   BG    1      36  000400  POLYGON ((-73.85870299999999 40.815405, -73.85...  \n",
       "3   BG    1      36  409700  POLYGON ((-73.52014 40.698804, -73.51471599999...  \n",
       "4   BG    2      36  304100  POLYGON ((-73.587903 40.760198, -73.5872079999...  "
      ]
     },
     "execution_count": 9,
     "metadata": {},
     "output_type": "execute_result"
    }
   ],
   "source": [
    "### read in census block GROUP shapefile\n",
    "ny_cb_shp_raw = gp.read_file(data_folder + 'cb_2016_36_bg_500k/cb_2016_36_bg_500k.shp')\n",
    "ny_cb_shp_raw = ny_cb_shp_raw.to_crs(epsg=4326)\n",
    "ny_cb_shp_raw.head()"
   ]
  },
  {
   "cell_type": "code",
   "execution_count": 10,
   "metadata": {
    "collapsed": false
   },
   "outputs": [],
   "source": [
    "ny_cb_shp = ny_cb_shp_raw[(ny_cb_shp_raw.COUNTYFP == '081') | (ny_cb_shp_raw.COUNTYFP == '005') |\\\n",
    "                         (ny_cb_shp_raw.COUNTYFP == '047') | (ny_cb_shp_raw.COUNTYFP == '061') |\\\n",
    "                         (ny_cb_shp_raw.COUNTYFP == '085')]\n",
    "\n",
    "ny_cb_shp = ny_cb_shp_raw[['AFFGEOID', 'GEOID', 'geometry']]"
   ]
  },
  {
   "cell_type": "code",
   "execution_count": 11,
   "metadata": {
    "collapsed": true
   },
   "outputs": [],
   "source": [
    "#ny_cb_shp.plot()"
   ]
  },
  {
   "cell_type": "code",
   "execution_count": 27,
   "metadata": {
    "collapsed": false
   },
   "outputs": [],
   "source": [
    "noise_cb_df = gp.sjoin(noise_df_geo, ny_cb_shp, how='left')"
   ]
  },
  {
   "cell_type": "code",
   "execution_count": 28,
   "metadata": {
    "collapsed": false
   },
   "outputs": [
    {
     "data": {
      "text/html": [
       "<div>\n",
       "<table border=\"1\" class=\"dataframe\">\n",
       "  <thead>\n",
       "    <tr style=\"text-align: right;\">\n",
       "      <th></th>\n",
       "      <th>Created Date</th>\n",
       "      <th>Descriptor</th>\n",
       "      <th>geometry</th>\n",
       "      <th>index_right</th>\n",
       "      <th>AFFGEOID</th>\n",
       "      <th>GEOID</th>\n",
       "    </tr>\n",
       "  </thead>\n",
       "  <tbody>\n",
       "    <tr>\n",
       "      <th>0</th>\n",
       "      <td>05/01/2013 06:17:00 PM</td>\n",
       "      <td>Noise, Barking Dog (NR5)</td>\n",
       "      <td>POINT (-73.8589886717692 40.89389930459917)</td>\n",
       "      <td>1762.0</td>\n",
       "      <td>1500000US360050420002</td>\n",
       "      <td>360050420002</td>\n",
       "    </tr>\n",
       "    <tr>\n",
       "      <th>1</th>\n",
       "      <td>07/04/2015 01:02:00 PM</td>\n",
       "      <td>Noise: air condition/ventilation equipment (NV1)</td>\n",
       "      <td>POINT (-73.95763793947506 40.71241137254676)</td>\n",
       "      <td>2341.0</td>\n",
       "      <td>1500000US360470523005</td>\n",
       "      <td>360470523005</td>\n",
       "    </tr>\n",
       "    <tr>\n",
       "      <th>2</th>\n",
       "      <td>07/29/2015 02:00:00 AM</td>\n",
       "      <td>Noise: air condition/ventilation equipment (NV1)</td>\n",
       "      <td>POINT (-73.90252924410468 40.7438245925335)</td>\n",
       "      <td>1930.0</td>\n",
       "      <td>1500000US360810249001</td>\n",
       "      <td>360810249001</td>\n",
       "    </tr>\n",
       "    <tr>\n",
       "      <th>3</th>\n",
       "      <td>11/12/2015 08:59:00 AM</td>\n",
       "      <td>Noise: air condition/ventilation equipment (NV1)</td>\n",
       "      <td>POINT (-73.90993751295274 40.81905560719026)</td>\n",
       "      <td>1862.0</td>\n",
       "      <td>1500000US360050075002</td>\n",
       "      <td>360050075002</td>\n",
       "    </tr>\n",
       "    <tr>\n",
       "      <th>4</th>\n",
       "      <td>10/12/2015 01:07:00 AM</td>\n",
       "      <td>Noise: air condition/ventilation equipment (NV1)</td>\n",
       "      <td>POINT (-73.94300888631271 40.61791057506885)</td>\n",
       "      <td>4832.0</td>\n",
       "      <td>1500000US360470746002</td>\n",
       "      <td>360470746002</td>\n",
       "    </tr>\n",
       "  </tbody>\n",
       "</table>\n",
       "</div>"
      ],
      "text/plain": [
       "             Created Date                                        Descriptor  \\\n",
       "0  05/01/2013 06:17:00 PM                          Noise, Barking Dog (NR5)   \n",
       "1  07/04/2015 01:02:00 PM  Noise: air condition/ventilation equipment (NV1)   \n",
       "2  07/29/2015 02:00:00 AM  Noise: air condition/ventilation equipment (NV1)   \n",
       "3  11/12/2015 08:59:00 AM  Noise: air condition/ventilation equipment (NV1)   \n",
       "4  10/12/2015 01:07:00 AM  Noise: air condition/ventilation equipment (NV1)   \n",
       "\n",
       "                                       geometry  index_right  \\\n",
       "0   POINT (-73.8589886717692 40.89389930459917)       1762.0   \n",
       "1  POINT (-73.95763793947506 40.71241137254676)       2341.0   \n",
       "2   POINT (-73.90252924410468 40.7438245925335)       1930.0   \n",
       "3  POINT (-73.90993751295274 40.81905560719026)       1862.0   \n",
       "4  POINT (-73.94300888631271 40.61791057506885)       4832.0   \n",
       "\n",
       "                AFFGEOID         GEOID  \n",
       "0  1500000US360050420002  360050420002  \n",
       "1  1500000US360470523005  360470523005  \n",
       "2  1500000US360810249001  360810249001  \n",
       "3  1500000US360050075002  360050075002  \n",
       "4  1500000US360470746002  360470746002  "
      ]
     },
     "execution_count": 28,
     "metadata": {},
     "output_type": "execute_result"
    }
   ],
   "source": [
    "noise_cb_df.head()"
   ]
  },
  {
   "cell_type": "code",
   "execution_count": 29,
   "metadata": {
    "collapsed": false
   },
   "outputs": [
    {
     "data": {
      "text/html": [
       "<div>\n",
       "<table border=\"1\" class=\"dataframe\">\n",
       "  <thead>\n",
       "    <tr style=\"text-align: right;\">\n",
       "      <th></th>\n",
       "      <th>GEOID</th>\n",
       "      <th>Descriptor</th>\n",
       "    </tr>\n",
       "  </thead>\n",
       "  <tbody>\n",
       "    <tr>\n",
       "      <th>0</th>\n",
       "      <td>360050002001</td>\n",
       "      <td>150</td>\n",
       "    </tr>\n",
       "    <tr>\n",
       "      <th>1</th>\n",
       "      <td>360050002002</td>\n",
       "      <td>226</td>\n",
       "    </tr>\n",
       "    <tr>\n",
       "      <th>2</th>\n",
       "      <td>360050002003</td>\n",
       "      <td>80</td>\n",
       "    </tr>\n",
       "    <tr>\n",
       "      <th>3</th>\n",
       "      <td>360050004001</td>\n",
       "      <td>38</td>\n",
       "    </tr>\n",
       "    <tr>\n",
       "      <th>4</th>\n",
       "      <td>360050004002</td>\n",
       "      <td>124</td>\n",
       "    </tr>\n",
       "  </tbody>\n",
       "</table>\n",
       "</div>"
      ],
      "text/plain": [
       "          GEOID  Descriptor\n",
       "0  360050002001         150\n",
       "1  360050002002         226\n",
       "2  360050002003          80\n",
       "3  360050004001          38\n",
       "4  360050004002         124"
      ]
     },
     "execution_count": 29,
     "metadata": {},
     "output_type": "execute_result"
    }
   ],
   "source": [
    "noise_cb_df_groupby = noise_cb_df.groupby(['GEOID'], as_index=False)['Descriptor'].count()\n",
    "noise_cb_df_groupby.head()"
   ]
  },
  {
   "cell_type": "code",
   "execution_count": 30,
   "metadata": {
    "collapsed": true
   },
   "outputs": [],
   "source": [
    "ny_cb_shp_w_noise_counts = ny_cb_shp.merge(noise_cb_df_groupby, on='GEOID')"
   ]
  },
  {
   "cell_type": "code",
   "execution_count": 31,
   "metadata": {
    "collapsed": false
   },
   "outputs": [
    {
     "data": {
      "text/html": [
       "<div>\n",
       "<table border=\"1\" class=\"dataframe\">\n",
       "  <thead>\n",
       "    <tr style=\"text-align: right;\">\n",
       "      <th></th>\n",
       "      <th>AFFGEOID</th>\n",
       "      <th>GEOID</th>\n",
       "      <th>geometry</th>\n",
       "      <th>Descriptor</th>\n",
       "    </tr>\n",
       "  </thead>\n",
       "  <tbody>\n",
       "    <tr>\n",
       "      <th>0</th>\n",
       "      <td>1500000US360850156031</td>\n",
       "      <td>360850156031</td>\n",
       "      <td>POLYGON ((-74.16134900000002 40.529374, -74.15...</td>\n",
       "      <td>30</td>\n",
       "    </tr>\n",
       "    <tr>\n",
       "      <th>1</th>\n",
       "      <td>1500000US360050004001</td>\n",
       "      <td>360050004001</td>\n",
       "      <td>POLYGON ((-73.85870299999999 40.815405, -73.85...</td>\n",
       "      <td>38</td>\n",
       "    </tr>\n",
       "    <tr>\n",
       "      <th>2</th>\n",
       "      <td>1500000US360811447001</td>\n",
       "      <td>360811447001</td>\n",
       "      <td>POLYGON ((-73.77740299999999 40.758214, -73.77...</td>\n",
       "      <td>36</td>\n",
       "    </tr>\n",
       "    <tr>\n",
       "      <th>3</th>\n",
       "      <td>1500000US360810269013</td>\n",
       "      <td>360810269013</td>\n",
       "      <td>POLYGON ((-73.88256200000001 40.747663, -73.87...</td>\n",
       "      <td>76</td>\n",
       "    </tr>\n",
       "    <tr>\n",
       "      <th>4</th>\n",
       "      <td>1500000US360470444001</td>\n",
       "      <td>360470444001</td>\n",
       "      <td>POLYGON ((-73.969112 40.61701, -73.96774000000...</td>\n",
       "      <td>9</td>\n",
       "    </tr>\n",
       "  </tbody>\n",
       "</table>\n",
       "</div>"
      ],
      "text/plain": [
       "                AFFGEOID         GEOID  \\\n",
       "0  1500000US360850156031  360850156031   \n",
       "1  1500000US360050004001  360050004001   \n",
       "2  1500000US360811447001  360811447001   \n",
       "3  1500000US360810269013  360810269013   \n",
       "4  1500000US360470444001  360470444001   \n",
       "\n",
       "                                            geometry  Descriptor  \n",
       "0  POLYGON ((-74.16134900000002 40.529374, -74.15...          30  \n",
       "1  POLYGON ((-73.85870299999999 40.815405, -73.85...          38  \n",
       "2  POLYGON ((-73.77740299999999 40.758214, -73.77...          36  \n",
       "3  POLYGON ((-73.88256200000001 40.747663, -73.87...          76  \n",
       "4  POLYGON ((-73.969112 40.61701, -73.96774000000...           9  "
      ]
     },
     "execution_count": 31,
     "metadata": {},
     "output_type": "execute_result"
    }
   ],
   "source": [
    "ny_cb_shp_w_noise_counts.head()"
   ]
  },
  {
   "cell_type": "code",
   "execution_count": 32,
   "metadata": {
    "collapsed": true
   },
   "outputs": [],
   "source": [
    "ny_cb_shp_w_noise_counts.to_csv(data_folder + 'ny_cb_shp_w_noise_counts')"
   ]
  },
  {
   "cell_type": "code",
   "execution_count": null,
   "metadata": {
    "collapsed": true
   },
   "outputs": [],
   "source": []
  }
 ],
 "metadata": {
  "anaconda-cloud": {},
  "kernelspec": {
   "display_name": "Python [Root]",
   "language": "python",
   "name": "Python [Root]"
  },
  "language_info": {
   "codemirror_mode": {
    "name": "ipython",
    "version": 2
   },
   "file_extension": ".py",
   "mimetype": "text/x-python",
   "name": "python",
   "nbconvert_exporter": "python",
   "pygments_lexer": "ipython2",
   "version": "2.7.12"
  }
 },
 "nbformat": 4,
 "nbformat_minor": 2
}
