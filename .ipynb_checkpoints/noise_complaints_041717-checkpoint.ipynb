{
 "cells": [
  {
   "cell_type": "code",
   "execution_count": 1,
   "metadata": {
    "collapsed": false
   },
   "outputs": [
    {
     "data": {
      "text/plain": [
       "'\\nnoise complaint data taken from openNYC data portal\\nhttps://data.cityofnewyork.us/Social-Services/NYC-311-NYPD-Noise-2015-01-14/a75n-km7r\\n\\ncan only get 2015-2017 data for some reason\\n'"
      ]
     },
     "execution_count": 1,
     "metadata": {},
     "output_type": "execute_result"
    }
   ],
   "source": [
    "'''\n",
    "noise complaint data taken from openNYC data portal\n",
    "https://data.cityofnewyork.us/Social-Services/NYC-311-NYPD-Noise-2015-01-14/a75n-km7r\n",
    "\n",
    "can only get 2015-2017 data for some reason\n",
    "'''"
   ]
  },
  {
   "cell_type": "code",
   "execution_count": 2,
   "metadata": {
    "collapsed": false
   },
   "outputs": [
    {
     "name": "stdout",
     "output_type": "stream",
     "text": [
      "Populating the interactive namespace from numpy and matplotlib\n"
     ]
    },
    {
     "name": "stderr",
     "output_type": "stream",
     "text": [
      "WARNING: pylab import has clobbered these variables: ['compress', 'datetime']\n",
      "`%matplotlib` prevents importing * from pylab and numpy\n"
     ]
    }
   ],
   "source": [
    "import numpy as np\n",
    "import pandas as pd\n",
    "import geopandas as gp\n",
    "import os\n",
    "import subprocess\n",
    "import math\n",
    "import shapely as shp\n",
    "from geopandas import GeoDataFrame\n",
    "from shapely.geometry import Point\n",
    "from datetime import datetime\n",
    "from fiona.crs import from_epsg\n",
    "import matplotlib\n",
    "matplotlib.use('TkAgg')\n",
    "import matplotlib.pyplot as plt\n",
    "import re\n",
    "from pandas.tseries.holiday import get_calendar, HolidayCalendarFactory, GoodFriday\n",
    "from datetime import datetime\n",
    "import sklearn\n",
    "from sklearn.model_selection import train_test_split\n",
    "from sklearn.linear_model import LogisticRegression\n",
    "from sklearn.ensemble import RandomForestClassifier as RFC\n",
    "from sklearn.model_selection import GridSearchCV\n",
    "from sklearn.metrics import roc_auc_score as rs\n",
    "from sklearn import svm, datasets\n",
    "from sklearn import metrics\n",
    "from sklearn.metrics import roc_curve\n",
    "from sklearn.metrics import auc\n",
    "\n",
    "from itertools import compress\n",
    "\n",
    "np.random.seed(222)\n",
    "\n",
    "%matplotlib inline\n",
    "%pylab inline"
   ]
  },
  {
   "cell_type": "code",
   "execution_count": 3,
   "metadata": {
    "collapsed": true
   },
   "outputs": [],
   "source": [
    "data_folder = '/Users/geoffperrin/Desktop/CUSP/GRA/NYPD/data/'"
   ]
  },
  {
   "cell_type": "code",
   "execution_count": 72,
   "metadata": {
    "collapsed": false,
    "scrolled": false
   },
   "outputs": [],
   "source": [
    "noise_df_raw = pd.read_csv(data_folder + 'NYC_311___NYPD_-_Noise_-_2015.01.14.csv')"
   ]
  },
  {
   "cell_type": "code",
   "execution_count": 73,
   "metadata": {
    "collapsed": true
   },
   "outputs": [],
   "source": [
    "noise_df = noise_df_raw[['Created Date', 'Descriptor', 'Latitude', 'Longitude']]"
   ]
  },
  {
   "cell_type": "code",
   "execution_count": 75,
   "metadata": {
    "collapsed": false
   },
   "outputs": [],
   "source": [
    "noise_df = noise_df.dropna()"
   ]
  },
  {
   "cell_type": "code",
   "execution_count": 77,
   "metadata": {
    "collapsed": false
   },
   "outputs": [],
   "source": [
    "noise_df['lonlat'] = zip(noise_df.Longitude, noise_df.Latitude)\n",
    "noise_df['geometry'] = noise_df[['lonlat']].applymap(lambda x:shp.geometry.Point(x))\n",
    "noise_df = noise_df.drop(['Longitude', 'Latitude'], axis=1)\n",
    "crs = {'init': 'epsg:4326'}\n",
    "noise_df_geo = GeoDataFrame(noise_df, crs=crs, geometry = 'geometry')\n",
    "noise_df_geo = noise_df_geo.to_crs(epsg=4326)"
   ]
  },
  {
   "cell_type": "code",
   "execution_count": 78,
   "metadata": {
    "collapsed": false
   },
   "outputs": [
    {
     "data": {
      "text/html": [
       "<div>\n",
       "<table border=\"1\" class=\"dataframe\">\n",
       "  <thead>\n",
       "    <tr style=\"text-align: right;\">\n",
       "      <th></th>\n",
       "      <th>Created Date</th>\n",
       "      <th>Descriptor</th>\n",
       "      <th>geometry</th>\n",
       "    </tr>\n",
       "  </thead>\n",
       "  <tbody>\n",
       "    <tr>\n",
       "      <th>0</th>\n",
       "      <td>09/04/2015 10:55:25 PM</td>\n",
       "      <td>Loud Music/Party</td>\n",
       "      <td>POINT (-73.87730091806679 40.83930620730105)</td>\n",
       "    </tr>\n",
       "    <tr>\n",
       "      <th>1</th>\n",
       "      <td>09/04/2015 01:53:45 PM</td>\n",
       "      <td>Loud Music/Party</td>\n",
       "      <td>POINT (-73.94768359377827 40.83022246037272)</td>\n",
       "    </tr>\n",
       "    <tr>\n",
       "      <th>2</th>\n",
       "      <td>09/04/2015 09:15:43 PM</td>\n",
       "      <td>Loud Music/Party</td>\n",
       "      <td>POINT (-73.94936777115372 40.82510431855133)</td>\n",
       "    </tr>\n",
       "    <tr>\n",
       "      <th>3</th>\n",
       "      <td>09/05/2015 01:06:57 AM</td>\n",
       "      <td>Loud Music/Party</td>\n",
       "      <td>POINT (-73.92923194083798 40.64096464471428)</td>\n",
       "    </tr>\n",
       "    <tr>\n",
       "      <th>4</th>\n",
       "      <td>09/04/2015 09:04:42 PM</td>\n",
       "      <td>Loud Music/Party</td>\n",
       "      <td>POINT (-73.91898361153942 40.82846572032084)</td>\n",
       "    </tr>\n",
       "  </tbody>\n",
       "</table>\n",
       "</div>"
      ],
      "text/plain": [
       "             Created Date        Descriptor  \\\n",
       "0  09/04/2015 10:55:25 PM  Loud Music/Party   \n",
       "1  09/04/2015 01:53:45 PM  Loud Music/Party   \n",
       "2  09/04/2015 09:15:43 PM  Loud Music/Party   \n",
       "3  09/05/2015 01:06:57 AM  Loud Music/Party   \n",
       "4  09/04/2015 09:04:42 PM  Loud Music/Party   \n",
       "\n",
       "                                       geometry  \n",
       "0  POINT (-73.87730091806679 40.83930620730105)  \n",
       "1  POINT (-73.94768359377827 40.83022246037272)  \n",
       "2  POINT (-73.94936777115372 40.82510431855133)  \n",
       "3  POINT (-73.92923194083798 40.64096464471428)  \n",
       "4  POINT (-73.91898361153942 40.82846572032084)  "
      ]
     },
     "execution_count": 78,
     "metadata": {},
     "output_type": "execute_result"
    }
   ],
   "source": [
    "noise_df_geo = noise_df_geo[['Created Date', 'Descriptor', 'geometry']]\n",
    "noise_df_geo.head()"
   ]
  },
  {
   "cell_type": "code",
   "execution_count": 79,
   "metadata": {
    "collapsed": false
   },
   "outputs": [],
   "source": [
    "### read in census block shapefile\n",
    "ny_cb_shp_raw = gp.read_file(data_folder + 'nycb2010wi_17a/nycb2010wi.shp')\n",
    "ny_cb_shp_raw = ny_cb_shp_raw.to_crs(epsg=4326)\n",
    "ny_cb_shp = ny_cb_shp_raw[['BCTCB2010', 'geometry']]"
   ]
  },
  {
   "cell_type": "code",
   "execution_count": 80,
   "metadata": {
    "collapsed": false
   },
   "outputs": [],
   "source": [
    "noise_cb_df = gp.sjoin(noise_df_geo, ny_cb_shp, how='left')"
   ]
  },
  {
   "cell_type": "code",
   "execution_count": 81,
   "metadata": {
    "collapsed": false
   },
   "outputs": [
    {
     "data": {
      "text/html": [
       "<div>\n",
       "<table border=\"1\" class=\"dataframe\">\n",
       "  <thead>\n",
       "    <tr style=\"text-align: right;\">\n",
       "      <th></th>\n",
       "      <th>Created Date</th>\n",
       "      <th>Descriptor</th>\n",
       "      <th>geometry</th>\n",
       "      <th>index_right</th>\n",
       "      <th>BCTCB2010</th>\n",
       "    </tr>\n",
       "  </thead>\n",
       "  <tbody>\n",
       "    <tr>\n",
       "      <th>0</th>\n",
       "      <td>09/04/2015 10:55:25 PM</td>\n",
       "      <td>Loud Music/Party</td>\n",
       "      <td>POINT (-73.87730091806679 40.83930620730105)</td>\n",
       "      <td>13189.0</td>\n",
       "      <td>20060001006</td>\n",
       "    </tr>\n",
       "    <tr>\n",
       "      <th>1</th>\n",
       "      <td>09/04/2015 01:53:45 PM</td>\n",
       "      <td>Loud Music/Party</td>\n",
       "      <td>POINT (-73.94768359377827 40.83022246037272)</td>\n",
       "      <td>28646.0</td>\n",
       "      <td>10237001001</td>\n",
       "    </tr>\n",
       "    <tr>\n",
       "      <th>2</th>\n",
       "      <td>09/04/2015 09:15:43 PM</td>\n",
       "      <td>Loud Music/Party</td>\n",
       "      <td>POINT (-73.94936777115372 40.82510431855133)</td>\n",
       "      <td>4409.0</td>\n",
       "      <td>10229003001</td>\n",
       "    </tr>\n",
       "    <tr>\n",
       "      <th>3</th>\n",
       "      <td>09/05/2015 01:06:57 AM</td>\n",
       "      <td>Loud Music/Party</td>\n",
       "      <td>POINT (-73.92923194083798 40.64096464471428)</td>\n",
       "      <td>8631.0</td>\n",
       "      <td>30840002000</td>\n",
       "    </tr>\n",
       "    <tr>\n",
       "      <th>4</th>\n",
       "      <td>09/04/2015 09:04:42 PM</td>\n",
       "      <td>Loud Music/Party</td>\n",
       "      <td>POINT (-73.91898361153942 40.82846572032084)</td>\n",
       "      <td>12322.0</td>\n",
       "      <td>20183021000</td>\n",
       "    </tr>\n",
       "  </tbody>\n",
       "</table>\n",
       "</div>"
      ],
      "text/plain": [
       "             Created Date        Descriptor  \\\n",
       "0  09/04/2015 10:55:25 PM  Loud Music/Party   \n",
       "1  09/04/2015 01:53:45 PM  Loud Music/Party   \n",
       "2  09/04/2015 09:15:43 PM  Loud Music/Party   \n",
       "3  09/05/2015 01:06:57 AM  Loud Music/Party   \n",
       "4  09/04/2015 09:04:42 PM  Loud Music/Party   \n",
       "\n",
       "                                       geometry  index_right    BCTCB2010  \n",
       "0  POINT (-73.87730091806679 40.83930620730105)      13189.0  20060001006  \n",
       "1  POINT (-73.94768359377827 40.83022246037272)      28646.0  10237001001  \n",
       "2  POINT (-73.94936777115372 40.82510431855133)       4409.0  10229003001  \n",
       "3  POINT (-73.92923194083798 40.64096464471428)       8631.0  30840002000  \n",
       "4  POINT (-73.91898361153942 40.82846572032084)      12322.0  20183021000  "
      ]
     },
     "execution_count": 81,
     "metadata": {},
     "output_type": "execute_result"
    }
   ],
   "source": [
    "noise_cb_df.head()"
   ]
  },
  {
   "cell_type": "code",
   "execution_count": 85,
   "metadata": {
    "collapsed": false
   },
   "outputs": [
    {
     "data": {
      "text/html": [
       "<div>\n",
       "<table border=\"1\" class=\"dataframe\">\n",
       "  <thead>\n",
       "    <tr style=\"text-align: right;\">\n",
       "      <th></th>\n",
       "      <th>BCTCB2010</th>\n",
       "      <th>Descriptor</th>\n",
       "    </tr>\n",
       "  </thead>\n",
       "  <tbody>\n",
       "    <tr>\n",
       "      <th>0</th>\n",
       "      <td>10002011000</td>\n",
       "      <td>150</td>\n",
       "    </tr>\n",
       "    <tr>\n",
       "      <th>1</th>\n",
       "      <td>10002011001</td>\n",
       "      <td>5</td>\n",
       "    </tr>\n",
       "    <tr>\n",
       "      <th>2</th>\n",
       "      <td>10002012000</td>\n",
       "      <td>137</td>\n",
       "    </tr>\n",
       "    <tr>\n",
       "      <th>3</th>\n",
       "      <td>10002012001</td>\n",
       "      <td>39</td>\n",
       "    </tr>\n",
       "    <tr>\n",
       "      <th>4</th>\n",
       "      <td>10002012002</td>\n",
       "      <td>5</td>\n",
       "    </tr>\n",
       "  </tbody>\n",
       "</table>\n",
       "</div>"
      ],
      "text/plain": [
       "     BCTCB2010  Descriptor\n",
       "0  10002011000         150\n",
       "1  10002011001           5\n",
       "2  10002012000         137\n",
       "3  10002012001          39\n",
       "4  10002012002           5"
      ]
     },
     "execution_count": 85,
     "metadata": {},
     "output_type": "execute_result"
    }
   ],
   "source": [
    "noise_cb_df_groupby = noise_cb_df.groupby(['BCTCB2010'], as_index=False)['Descriptor'].count()\n",
    "noise_cb_df_groupby.head()"
   ]
  },
  {
   "cell_type": "code",
   "execution_count": 86,
   "metadata": {
    "collapsed": true
   },
   "outputs": [],
   "source": [
    "ny_cb_shp_w_noise_counts = ny_cb_shp.merge(noise_cb_df_groupby, on='BCTCB2010')"
   ]
  },
  {
   "cell_type": "code",
   "execution_count": 87,
   "metadata": {
    "collapsed": false
   },
   "outputs": [
    {
     "data": {
      "text/html": [
       "<div>\n",
       "<table border=\"1\" class=\"dataframe\">\n",
       "  <thead>\n",
       "    <tr style=\"text-align: right;\">\n",
       "      <th></th>\n",
       "      <th>BCTCB2010</th>\n",
       "      <th>geometry</th>\n",
       "      <th>Descriptor</th>\n",
       "    </tr>\n",
       "  </thead>\n",
       "  <tbody>\n",
       "    <tr>\n",
       "      <th>0</th>\n",
       "      <td>50009001000</td>\n",
       "      <td>POLYGON ((-74.07920577013249 40.643430783779, ...</td>\n",
       "      <td>3</td>\n",
       "    </tr>\n",
       "    <tr>\n",
       "      <th>1</th>\n",
       "      <td>50020011000</td>\n",
       "      <td>POLYGON ((-74.07061992438021 40.6108550670875,...</td>\n",
       "      <td>1</td>\n",
       "    </tr>\n",
       "    <tr>\n",
       "      <th>2</th>\n",
       "      <td>50027001000</td>\n",
       "      <td>POLYGON ((-74.07524403976554 40.62600632405743...</td>\n",
       "      <td>57</td>\n",
       "    </tr>\n",
       "    <tr>\n",
       "      <th>3</th>\n",
       "      <td>50064001000</td>\n",
       "      <td>POLYGON ((-74.07643744511995 40.60100160658921...</td>\n",
       "      <td>1</td>\n",
       "    </tr>\n",
       "    <tr>\n",
       "      <th>4</th>\n",
       "      <td>50074001000</td>\n",
       "      <td>POLYGON ((-74.06589403909585 40.59682603645426...</td>\n",
       "      <td>17</td>\n",
       "    </tr>\n",
       "  </tbody>\n",
       "</table>\n",
       "</div>"
      ],
      "text/plain": [
       "     BCTCB2010                                           geometry  Descriptor\n",
       "0  50009001000  POLYGON ((-74.07920577013249 40.643430783779, ...           3\n",
       "1  50020011000  POLYGON ((-74.07061992438021 40.6108550670875,...           1\n",
       "2  50027001000  POLYGON ((-74.07524403976554 40.62600632405743...          57\n",
       "3  50064001000  POLYGON ((-74.07643744511995 40.60100160658921...           1\n",
       "4  50074001000  POLYGON ((-74.06589403909585 40.59682603645426...          17"
      ]
     },
     "execution_count": 87,
     "metadata": {},
     "output_type": "execute_result"
    }
   ],
   "source": [
    "ny_cb_shp_w_noise_counts.head()"
   ]
  },
  {
   "cell_type": "code",
   "execution_count": null,
   "metadata": {
    "collapsed": true
   },
   "outputs": [],
   "source": [
    "ny_cb_shp_w_noise_counts.plot(column='Descriptor', cmap='Reds', alpha=.9)"
   ]
  },
  {
   "cell_type": "code",
   "execution_count": null,
   "metadata": {
    "collapsed": true
   },
   "outputs": [],
   "source": []
  }
 ],
 "metadata": {
  "anaconda-cloud": {},
  "kernelspec": {
   "display_name": "Python [Root]",
   "language": "python",
   "name": "Python [Root]"
  },
  "language_info": {
   "codemirror_mode": {
    "name": "ipython",
    "version": 2
   },
   "file_extension": ".py",
   "mimetype": "text/x-python",
   "name": "python",
   "nbconvert_exporter": "python",
   "pygments_lexer": "ipython2",
   "version": "2.7.12"
  }
 },
 "nbformat": 4,
 "nbformat_minor": 2
}
